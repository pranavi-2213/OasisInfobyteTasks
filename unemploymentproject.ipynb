{
 "cells": [
  {
   "cell_type": "markdown",
   "id": "fc3ac20b-9296-4840-b29c-2a81852db554",
   "metadata": {},
   "source": [
    "# OASIS INFOBYTE INTERNSHIP\n",
    "## TASK-2\n",
    "### Project Name : UNEMPLOYEMENT ANALYSIS WITH PYTHON \n",
    "### Intern : Pranavi Karnam\n",
    "### Domain : Data Science"
   ]
  },
  {
   "cell_type": "markdown",
   "id": "53e0fa9a-bdcf-454c-9aad-8fca78f81280",
   "metadata": {},
   "source": [
    "#### Introduction"
   ]
  },
  {
   "cell_type": "markdown",
   "id": "11310866-d713-451c-9975-3a9d105f61c3",
   "metadata": {},
   "source": [
    "Unemployment is a key economic indicator that reflects the health of a nation’s economy. Analyzing unemployment trends helps policymakers, businesses, and researchers understand labor market dynamics and economic conditions. This study utilizes Python to explore and visualize unemployment data in India, employing various analytical techniques to extract meaningful insights."
   ]
  },
  {
   "cell_type": "markdown",
   "id": "4c3de704-5ee4-4f8d-a69a-07ae5eccc694",
   "metadata": {},
   "source": [
    "#### Technologies Used\n",
    "\n",
    "Python: Programming language for data analysis.\n",
    "\n",
    "Pandas: Data manipulation and analysis.\n",
    "\n",
    "Matplotlib & Seaborn: Data visualization.\n",
    "\n",
    "Jupyter Notebook: Interactive development environment."
   ]
  },
  {
   "cell_type": "markdown",
   "id": "01fc9b32-2dbe-478e-a981-0caae0b263a3",
   "metadata": {},
   "source": [
    "#### Importing necessary libraries"
   ]
  },
  {
   "cell_type": "code",
   "execution_count": 261,
   "id": "68ac952f-ac1b-4eb4-afc4-e535427c8dbb",
   "metadata": {},
   "outputs": [],
   "source": [
    "import pandas as pd\n",
    "import matplotlib.pyplot as plt\n",
    "import seaborn as sns"
   ]
  },
  {
   "cell_type": "markdown",
   "id": "bd4b4241-5858-48c2-964b-6d26b8b5f7f8",
   "metadata": {},
   "source": [
    "#### Load the data"
   ]
  },
  {
   "cell_type": "code",
   "execution_count": 264,
   "id": "04f82533-9d5f-47af-87bf-41a62bbc8d39",
   "metadata": {},
   "outputs": [
    {
     "data": {
      "text/html": [
       "<div>\n",
       "<style scoped>\n",
       "    .dataframe tbody tr th:only-of-type {\n",
       "        vertical-align: middle;\n",
       "    }\n",
       "\n",
       "    .dataframe tbody tr th {\n",
       "        vertical-align: top;\n",
       "    }\n",
       "\n",
       "    .dataframe thead th {\n",
       "        text-align: right;\n",
       "    }\n",
       "</style>\n",
       "<table border=\"1\" class=\"dataframe\">\n",
       "  <thead>\n",
       "    <tr style=\"text-align: right;\">\n",
       "      <th></th>\n",
       "      <th>Region</th>\n",
       "      <th>Date</th>\n",
       "      <th>Frequency</th>\n",
       "      <th>Estimated Unemployment Rate (%)</th>\n",
       "      <th>Estimated Employed</th>\n",
       "      <th>Estimated Labour Participation Rate (%)</th>\n",
       "      <th>Region.1</th>\n",
       "      <th>longitude</th>\n",
       "      <th>latitude</th>\n",
       "    </tr>\n",
       "  </thead>\n",
       "  <tbody>\n",
       "    <tr>\n",
       "      <th>0</th>\n",
       "      <td>Andhra Pradesh</td>\n",
       "      <td>31-01-2020</td>\n",
       "      <td>M</td>\n",
       "      <td>5.48</td>\n",
       "      <td>16635535</td>\n",
       "      <td>41.02</td>\n",
       "      <td>South</td>\n",
       "      <td>15.9129</td>\n",
       "      <td>79.74</td>\n",
       "    </tr>\n",
       "    <tr>\n",
       "      <th>1</th>\n",
       "      <td>Andhra Pradesh</td>\n",
       "      <td>29-02-2020</td>\n",
       "      <td>M</td>\n",
       "      <td>5.83</td>\n",
       "      <td>16545652</td>\n",
       "      <td>40.90</td>\n",
       "      <td>South</td>\n",
       "      <td>15.9129</td>\n",
       "      <td>79.74</td>\n",
       "    </tr>\n",
       "    <tr>\n",
       "      <th>2</th>\n",
       "      <td>Andhra Pradesh</td>\n",
       "      <td>31-03-2020</td>\n",
       "      <td>M</td>\n",
       "      <td>5.79</td>\n",
       "      <td>15881197</td>\n",
       "      <td>39.18</td>\n",
       "      <td>South</td>\n",
       "      <td>15.9129</td>\n",
       "      <td>79.74</td>\n",
       "    </tr>\n",
       "    <tr>\n",
       "      <th>3</th>\n",
       "      <td>Andhra Pradesh</td>\n",
       "      <td>30-04-2020</td>\n",
       "      <td>M</td>\n",
       "      <td>20.51</td>\n",
       "      <td>11336911</td>\n",
       "      <td>33.10</td>\n",
       "      <td>South</td>\n",
       "      <td>15.9129</td>\n",
       "      <td>79.74</td>\n",
       "    </tr>\n",
       "    <tr>\n",
       "      <th>4</th>\n",
       "      <td>Andhra Pradesh</td>\n",
       "      <td>31-05-2020</td>\n",
       "      <td>M</td>\n",
       "      <td>17.43</td>\n",
       "      <td>12988845</td>\n",
       "      <td>36.46</td>\n",
       "      <td>South</td>\n",
       "      <td>15.9129</td>\n",
       "      <td>79.74</td>\n",
       "    </tr>\n",
       "  </tbody>\n",
       "</table>\n",
       "</div>"
      ],
      "text/plain": [
       "           Region         Date  Frequency   Estimated Unemployment Rate (%)  \\\n",
       "0  Andhra Pradesh   31-01-2020          M                              5.48   \n",
       "1  Andhra Pradesh   29-02-2020          M                              5.83   \n",
       "2  Andhra Pradesh   31-03-2020          M                              5.79   \n",
       "3  Andhra Pradesh   30-04-2020          M                             20.51   \n",
       "4  Andhra Pradesh   31-05-2020          M                             17.43   \n",
       "\n",
       "    Estimated Employed   Estimated Labour Participation Rate (%) Region.1  \\\n",
       "0             16635535                                     41.02    South   \n",
       "1             16545652                                     40.90    South   \n",
       "2             15881197                                     39.18    South   \n",
       "3             11336911                                     33.10    South   \n",
       "4             12988845                                     36.46    South   \n",
       "\n",
       "   longitude  latitude  \n",
       "0    15.9129     79.74  \n",
       "1    15.9129     79.74  \n",
       "2    15.9129     79.74  \n",
       "3    15.9129     79.74  \n",
       "4    15.9129     79.74  "
      ]
     },
     "execution_count": 264,
     "metadata": {},
     "output_type": "execute_result"
    }
   ],
   "source": [
    "file1_path = r\"C:\\Users\\USER\\Downloads\\archive (4)\\Unemployment in India.csv\"\n",
    "file2_path = r\"C:\\Users\\USER\\Downloads\\archive (4)\\Unemployment_Rate_upto_11_2020.csv\"\n",
    "\n",
    "df1 = pd.read_csv(file1_path)\n",
    "df2 = pd.read_csv(file2_path)\n",
    "\n",
    "df1.head()\n",
    "df2.head()"
   ]
  },
  {
   "cell_type": "code",
   "execution_count": 266,
   "id": "ed3b42ea-fa5f-4bc2-b129-ddd32c4348d4",
   "metadata": {},
   "outputs": [
    {
     "name": "stdout",
     "output_type": "stream",
     "text": [
      "<class 'pandas.core.frame.DataFrame'>\n",
      "RangeIndex: 768 entries, 0 to 767\n",
      "Data columns (total 7 columns):\n",
      " #   Column                                    Non-Null Count  Dtype  \n",
      "---  ------                                    --------------  -----  \n",
      " 0   Region                                    740 non-null    object \n",
      " 1    Date                                     740 non-null    object \n",
      " 2    Frequency                                740 non-null    object \n",
      " 3    Estimated Unemployment Rate (%)          740 non-null    float64\n",
      " 4    Estimated Employed                       740 non-null    float64\n",
      " 5    Estimated Labour Participation Rate (%)  740 non-null    float64\n",
      " 6   Area                                      740 non-null    object \n",
      "dtypes: float64(3), object(4)\n",
      "memory usage: 42.1+ KB\n",
      "<class 'pandas.core.frame.DataFrame'>\n",
      "RangeIndex: 267 entries, 0 to 266\n",
      "Data columns (total 9 columns):\n",
      " #   Column                                    Non-Null Count  Dtype  \n",
      "---  ------                                    --------------  -----  \n",
      " 0   Region                                    267 non-null    object \n",
      " 1    Date                                     267 non-null    object \n",
      " 2    Frequency                                267 non-null    object \n",
      " 3    Estimated Unemployment Rate (%)          267 non-null    float64\n",
      " 4    Estimated Employed                       267 non-null    int64  \n",
      " 5    Estimated Labour Participation Rate (%)  267 non-null    float64\n",
      " 6   Region.1                                  267 non-null    object \n",
      " 7   longitude                                 267 non-null    float64\n",
      " 8   latitude                                  267 non-null    float64\n",
      "dtypes: float64(4), int64(1), object(4)\n",
      "memory usage: 18.9+ KB\n"
     ]
    }
   ],
   "source": [
    "df1.info()\n",
    "df2.info()"
   ]
  },
  {
   "cell_type": "code",
   "execution_count": 268,
   "id": "b6f4151b-62b9-4591-96f3-77bf2e53b4de",
   "metadata": {},
   "outputs": [
    {
     "data": {
      "text/plain": [
       "(267, 9)"
      ]
     },
     "execution_count": 268,
     "metadata": {},
     "output_type": "execute_result"
    }
   ],
   "source": [
    "df1.shape\n",
    "df2.shape"
   ]
  },
  {
   "cell_type": "code",
   "execution_count": 270,
   "id": "6ec5b998-95f5-4379-8a01-019e0918be43",
   "metadata": {},
   "outputs": [
    {
     "name": "stdout",
     "output_type": "stream",
     "text": [
      "first sheet:  <bound method NDFrame.describe of              Region         Date  Frequency   Estimated Unemployment Rate (%)  \\\n",
      "0    Andhra Pradesh   31-05-2019    Monthly                              3.65   \n",
      "1    Andhra Pradesh   30-06-2019    Monthly                              3.05   \n",
      "2    Andhra Pradesh   31-07-2019    Monthly                              3.75   \n",
      "3    Andhra Pradesh   31-08-2019    Monthly                              3.32   \n",
      "4    Andhra Pradesh   30-09-2019    Monthly                              5.17   \n",
      "..              ...          ...        ...                               ...   \n",
      "763             NaN          NaN        NaN                               NaN   \n",
      "764             NaN          NaN        NaN                               NaN   \n",
      "765             NaN          NaN        NaN                               NaN   \n",
      "766             NaN          NaN        NaN                               NaN   \n",
      "767             NaN          NaN        NaN                               NaN   \n",
      "\n",
      "      Estimated Employed   Estimated Labour Participation Rate (%)   Area  \n",
      "0             11999139.0                                     43.24  Rural  \n",
      "1             11755881.0                                     42.05  Rural  \n",
      "2             12086707.0                                     43.50  Rural  \n",
      "3             12285693.0                                     43.97  Rural  \n",
      "4             12256762.0                                     44.68  Rural  \n",
      "..                   ...                                       ...    ...  \n",
      "763                  NaN                                       NaN    NaN  \n",
      "764                  NaN                                       NaN    NaN  \n",
      "765                  NaN                                       NaN    NaN  \n",
      "766                  NaN                                       NaN    NaN  \n",
      "767                  NaN                                       NaN    NaN  \n",
      "\n",
      "[768 rows x 7 columns]>\n",
      "secound sheet:  <bound method NDFrame.describe of              Region         Date  Frequency   Estimated Unemployment Rate (%)  \\\n",
      "0    Andhra Pradesh   31-01-2020          M                              5.48   \n",
      "1    Andhra Pradesh   29-02-2020          M                              5.83   \n",
      "2    Andhra Pradesh   31-03-2020          M                              5.79   \n",
      "3    Andhra Pradesh   30-04-2020          M                             20.51   \n",
      "4    Andhra Pradesh   31-05-2020          M                             17.43   \n",
      "..              ...          ...        ...                               ...   \n",
      "262     West Bengal   30-06-2020          M                              7.29   \n",
      "263     West Bengal   31-07-2020          M                              6.83   \n",
      "264     West Bengal   31-08-2020          M                             14.87   \n",
      "265     West Bengal   30-09-2020          M                              9.35   \n",
      "266     West Bengal   31-10-2020          M                              9.98   \n",
      "\n",
      "      Estimated Employed   Estimated Labour Participation Rate (%) Region.1  \\\n",
      "0               16635535                                     41.02    South   \n",
      "1               16545652                                     40.90    South   \n",
      "2               15881197                                     39.18    South   \n",
      "3               11336911                                     33.10    South   \n",
      "4               12988845                                     36.46    South   \n",
      "..                   ...                                       ...      ...   \n",
      "262             30726310                                     40.39     East   \n",
      "263             35372506                                     46.17     East   \n",
      "264             33298644                                     47.48     East   \n",
      "265             35707239                                     47.73     East   \n",
      "266             33962549                                     45.63     East   \n",
      "\n",
      "     longitude  latitude  \n",
      "0      15.9129    79.740  \n",
      "1      15.9129    79.740  \n",
      "2      15.9129    79.740  \n",
      "3      15.9129    79.740  \n",
      "4      15.9129    79.740  \n",
      "..         ...       ...  \n",
      "262    22.9868    87.855  \n",
      "263    22.9868    87.855  \n",
      "264    22.9868    87.855  \n",
      "265    22.9868    87.855  \n",
      "266    22.9868    87.855  \n",
      "\n",
      "[267 rows x 9 columns]>\n"
     ]
    }
   ],
   "source": [
    "print(\"first sheet: \",df1.describe)\n",
    "print(\"secound sheet: \",df2.describe)"
   ]
  },
  {
   "cell_type": "code",
   "execution_count": 272,
   "id": "d33edcb0-a01f-4836-9717-d481cb7dce71",
   "metadata": {},
   "outputs": [
    {
     "data": {
      "text/plain": [
       "Index(['Region', ' Date', ' Frequency', ' Estimated Unemployment Rate (%)',\n",
       "       ' Estimated Employed', ' Estimated Labour Participation Rate (%)',\n",
       "       'Area'],\n",
       "      dtype='object')"
      ]
     },
     "execution_count": 272,
     "metadata": {},
     "output_type": "execute_result"
    }
   ],
   "source": [
    "df1.columns"
   ]
  },
  {
   "cell_type": "code",
   "execution_count": 274,
   "id": "014236d9-481a-41ff-b851-d7c58ac7676c",
   "metadata": {},
   "outputs": [
    {
     "data": {
      "text/plain": [
       "Index(['Region', ' Date', ' Frequency', ' Estimated Unemployment Rate (%)',\n",
       "       ' Estimated Employed', ' Estimated Labour Participation Rate (%)',\n",
       "       'Region.1', 'longitude', 'latitude'],\n",
       "      dtype='object')"
      ]
     },
     "execution_count": 274,
     "metadata": {},
     "output_type": "execute_result"
    }
   ],
   "source": [
    "df2.columns"
   ]
  },
  {
   "cell_type": "markdown",
   "id": "1fbc07d1-c670-4668-9946-b4270fc64c9e",
   "metadata": {},
   "source": [
    "#### Clean Column Names (Remove Extra Spaces)"
   ]
  },
  {
   "cell_type": "code",
   "execution_count": 277,
   "id": "85080856-a1f3-4e81-89ab-5134a52ed493",
   "metadata": {},
   "outputs": [],
   "source": [
    "df1.columns = df1.columns.str.strip()\n",
    "df2.columns = df2.columns.str.strip()"
   ]
  },
  {
   "cell_type": "code",
   "execution_count": 279,
   "id": "9d5501bb-615b-49dc-92c5-6d69b4de2f4d",
   "metadata": {},
   "outputs": [
    {
     "data": {
      "text/plain": [
       "Region                                     0\n",
       "Date                                       0\n",
       "Frequency                                  0\n",
       "Estimated Unemployment Rate (%)            0\n",
       "Estimated Employed                         0\n",
       "Estimated Labour Participation Rate (%)    0\n",
       "Region.1                                   0\n",
       "longitude                                  0\n",
       "latitude                                   0\n",
       "dtype: int64"
      ]
     },
     "execution_count": 279,
     "metadata": {},
     "output_type": "execute_result"
    }
   ],
   "source": [
    "df1.isnull().sum()\n",
    "df2.isnull().sum()"
   ]
  },
  {
   "cell_type": "markdown",
   "id": "b80d2637-65c8-4c8b-9a26-720c5bd4f672",
   "metadata": {},
   "source": [
    "#### Convert 'Date' Column to Proper Date Format"
   ]
  },
  {
   "cell_type": "code",
   "execution_count": 282,
   "id": "eb7bf5e3-0607-4335-9bcc-2c03d54f8fa2",
   "metadata": {},
   "outputs": [],
   "source": [
    "df1['Date'] = pd.to_datetime(df1['Date'], dayfirst=True)\n",
    "df2['Date'] = pd.to_datetime(df2['Date'], dayfirst=True)"
   ]
  },
  {
   "cell_type": "markdown",
   "id": "ddd28ccc-5f6d-49c6-a95a-234f0b51973e",
   "metadata": {},
   "source": [
    "#### Handle Missing Values"
   ]
  },
  {
   "cell_type": "code",
   "execution_count": 285,
   "id": "3c8fb0c9-35d0-4eb2-bd90-80780740e752",
   "metadata": {},
   "outputs": [],
   "source": [
    "df1.dropna(inplace=True)\n",
    "df2.dropna(inplace=True)"
   ]
  },
  {
   "cell_type": "markdown",
   "id": "402d7d53-bd9e-4d9c-8558-6e9566152ec2",
   "metadata": {},
   "source": [
    "#### Merge Both Datasets on Common Columns"
   ]
  },
  {
   "cell_type": "code",
   "execution_count": 288,
   "id": "39383a34-9a21-4750-b11e-dc870fc7fd1a",
   "metadata": {},
   "outputs": [],
   "source": [
    "common_columns = ['Region', 'Date', 'Estimated Unemployment Rate (%)', \n",
    "                  'Estimated Employed', 'Estimated Labour Participation Rate (%)']\n",
    "\n",
    "df_merged = pd.concat([df1[common_columns], df2[common_columns]], ignore_index=True)"
   ]
  },
  {
   "cell_type": "markdown",
   "id": "6271b94d-10ea-4a06-a1a6-4d72a1bb99e5",
   "metadata": {},
   "source": [
    "#### Analyze Unemployment Trends Over Time"
   ]
  },
  {
   "cell_type": "code",
   "execution_count": 291,
   "id": "f39ad5ed-28ed-4bfc-b3f8-db044ed94f06",
   "metadata": {},
   "outputs": [
    {
     "data": {
      "text/html": [
       "<div>\n",
       "<style scoped>\n",
       "    .dataframe tbody tr th:only-of-type {\n",
       "        vertical-align: middle;\n",
       "    }\n",
       "\n",
       "    .dataframe tbody tr th {\n",
       "        vertical-align: top;\n",
       "    }\n",
       "\n",
       "    .dataframe thead th {\n",
       "        text-align: right;\n",
       "    }\n",
       "</style>\n",
       "<table border=\"1\" class=\"dataframe\">\n",
       "  <thead>\n",
       "    <tr style=\"text-align: right;\">\n",
       "      <th></th>\n",
       "      <th>Date</th>\n",
       "      <th>Estimated Unemployment Rate (%)</th>\n",
       "      <th>Estimated Employed</th>\n",
       "      <th>Estimated Labour Participation Rate (%)</th>\n",
       "    </tr>\n",
       "  </thead>\n",
       "  <tbody>\n",
       "    <tr>\n",
       "      <th>0</th>\n",
       "      <td>2019-05-31</td>\n",
       "      <td>8.874259</td>\n",
       "      <td>7.410148e+06</td>\n",
       "      <td>43.902963</td>\n",
       "    </tr>\n",
       "    <tr>\n",
       "      <th>1</th>\n",
       "      <td>2019-06-30</td>\n",
       "      <td>9.303333</td>\n",
       "      <td>7.358642e+06</td>\n",
       "      <td>43.750556</td>\n",
       "    </tr>\n",
       "    <tr>\n",
       "      <th>2</th>\n",
       "      <td>2019-07-31</td>\n",
       "      <td>9.033889</td>\n",
       "      <td>7.404425e+06</td>\n",
       "      <td>43.706667</td>\n",
       "    </tr>\n",
       "    <tr>\n",
       "      <th>3</th>\n",
       "      <td>2019-08-31</td>\n",
       "      <td>9.637925</td>\n",
       "      <td>7.539815e+06</td>\n",
       "      <td>43.646792</td>\n",
       "    </tr>\n",
       "    <tr>\n",
       "      <th>4</th>\n",
       "      <td>2019-09-30</td>\n",
       "      <td>9.051731</td>\n",
       "      <td>7.739464e+06</td>\n",
       "      <td>44.301346</td>\n",
       "    </tr>\n",
       "    <tr>\n",
       "      <th>5</th>\n",
       "      <td>2019-10-31</td>\n",
       "      <td>9.900909</td>\n",
       "      <td>7.298382e+06</td>\n",
       "      <td>44.001273</td>\n",
       "    </tr>\n",
       "    <tr>\n",
       "      <th>6</th>\n",
       "      <td>2019-11-30</td>\n",
       "      <td>9.868364</td>\n",
       "      <td>7.273661e+06</td>\n",
       "      <td>44.110545</td>\n",
       "    </tr>\n",
       "    <tr>\n",
       "      <th>7</th>\n",
       "      <td>2019-12-31</td>\n",
       "      <td>9.497358</td>\n",
       "      <td>7.377388e+06</td>\n",
       "      <td>43.667358</td>\n",
       "    </tr>\n",
       "    <tr>\n",
       "      <th>8</th>\n",
       "      <td>2020-01-31</td>\n",
       "      <td>9.702532</td>\n",
       "      <td>1.029704e+07</td>\n",
       "      <td>44.240633</td>\n",
       "    </tr>\n",
       "    <tr>\n",
       "      <th>9</th>\n",
       "      <td>2020-02-29</td>\n",
       "      <td>9.734810</td>\n",
       "      <td>1.019882e+07</td>\n",
       "      <td>43.873671</td>\n",
       "    </tr>\n",
       "    <tr>\n",
       "      <th>10</th>\n",
       "      <td>2020-03-31</td>\n",
       "      <td>10.728608</td>\n",
       "      <td>9.916532e+06</td>\n",
       "      <td>43.310506</td>\n",
       "    </tr>\n",
       "    <tr>\n",
       "      <th>11</th>\n",
       "      <td>2020-04-30</td>\n",
       "      <td>23.167013</td>\n",
       "      <td>7.068500e+06</td>\n",
       "      <td>35.193896</td>\n",
       "    </tr>\n",
       "    <tr>\n",
       "      <th>12</th>\n",
       "      <td>2020-05-31</td>\n",
       "      <td>24.310769</td>\n",
       "      <td>7.827528e+06</td>\n",
       "      <td>38.895256</td>\n",
       "    </tr>\n",
       "    <tr>\n",
       "      <th>13</th>\n",
       "      <td>2020-06-30</td>\n",
       "      <td>11.555584</td>\n",
       "      <td>9.655845e+06</td>\n",
       "      <td>40.778052</td>\n",
       "    </tr>\n",
       "    <tr>\n",
       "      <th>14</th>\n",
       "      <td>2020-07-31</td>\n",
       "      <td>9.834444</td>\n",
       "      <td>1.441802e+07</td>\n",
       "      <td>42.274815</td>\n",
       "    </tr>\n",
       "    <tr>\n",
       "      <th>15</th>\n",
       "      <td>2020-08-31</td>\n",
       "      <td>10.313333</td>\n",
       "      <td>1.442904e+07</td>\n",
       "      <td>42.390741</td>\n",
       "    </tr>\n",
       "    <tr>\n",
       "      <th>16</th>\n",
       "      <td>2020-09-30</td>\n",
       "      <td>8.705926</td>\n",
       "      <td>1.458784e+07</td>\n",
       "      <td>41.974444</td>\n",
       "    </tr>\n",
       "    <tr>\n",
       "      <th>17</th>\n",
       "      <td>2020-10-31</td>\n",
       "      <td>8.026296</td>\n",
       "      <td>1.457998e+07</td>\n",
       "      <td>41.438519</td>\n",
       "    </tr>\n",
       "  </tbody>\n",
       "</table>\n",
       "</div>"
      ],
      "text/plain": [
       "         Date  Estimated Unemployment Rate (%)  Estimated Employed  \\\n",
       "0  2019-05-31                         8.874259        7.410148e+06   \n",
       "1  2019-06-30                         9.303333        7.358642e+06   \n",
       "2  2019-07-31                         9.033889        7.404425e+06   \n",
       "3  2019-08-31                         9.637925        7.539815e+06   \n",
       "4  2019-09-30                         9.051731        7.739464e+06   \n",
       "5  2019-10-31                         9.900909        7.298382e+06   \n",
       "6  2019-11-30                         9.868364        7.273661e+06   \n",
       "7  2019-12-31                         9.497358        7.377388e+06   \n",
       "8  2020-01-31                         9.702532        1.029704e+07   \n",
       "9  2020-02-29                         9.734810        1.019882e+07   \n",
       "10 2020-03-31                        10.728608        9.916532e+06   \n",
       "11 2020-04-30                        23.167013        7.068500e+06   \n",
       "12 2020-05-31                        24.310769        7.827528e+06   \n",
       "13 2020-06-30                        11.555584        9.655845e+06   \n",
       "14 2020-07-31                         9.834444        1.441802e+07   \n",
       "15 2020-08-31                        10.313333        1.442904e+07   \n",
       "16 2020-09-30                         8.705926        1.458784e+07   \n",
       "17 2020-10-31                         8.026296        1.457998e+07   \n",
       "\n",
       "    Estimated Labour Participation Rate (%)  \n",
       "0                                 43.902963  \n",
       "1                                 43.750556  \n",
       "2                                 43.706667  \n",
       "3                                 43.646792  \n",
       "4                                 44.301346  \n",
       "5                                 44.001273  \n",
       "6                                 44.110545  \n",
       "7                                 43.667358  \n",
       "8                                 44.240633  \n",
       "9                                 43.873671  \n",
       "10                                43.310506  \n",
       "11                                35.193896  \n",
       "12                                38.895256  \n",
       "13                                40.778052  \n",
       "14                                42.274815  \n",
       "15                                42.390741  \n",
       "16                                41.974444  \n",
       "17                                41.438519  "
      ]
     },
     "execution_count": 291,
     "metadata": {},
     "output_type": "execute_result"
    }
   ],
   "source": [
    "df_trend = df_merged.groupby('Date').mean(numeric_only=True).reset_index()\n",
    "df_trend"
   ]
  },
  {
   "cell_type": "markdown",
   "id": "4aaab02d-a45b-4652-ab64-d36004fada51",
   "metadata": {},
   "source": [
    "#### Plot Unemployment Rate Over Time"
   ]
  },
  {
   "cell_type": "code",
   "execution_count": 294,
   "id": "5bc5013d-6917-4abc-9f1f-5ac74c7cc108",
   "metadata": {},
   "outputs": [
    {
     "data": {
      "image/png": "[encoded data removed]",
      "text/plain": [
       "<Figure size 1200x600 with 1 Axes>"
      ]
     },
     "metadata": {},
     "output_type": "display_data"
    }
   ],
   "source": [
    "plt.figure(figsize=(12, 6))\n",
    "sns.lineplot(x='Date', y='Estimated Unemployment Rate (%)', data=df_trend, marker='o', color='red')\n",
    "plt.title('Unemployment Rate Trend in India')\n",
    "plt.xlabel('Date')\n",
    "plt.ylabel('Unemployment Rate (%)')\n",
    "plt.grid(True)\n",
    "plt.xticks(rotation=45)\n",
    "plt.show()"
   ]
  },
  {
   "cell_type": "markdown",
   "id": "31ceb6af-40ca-43d4-91e4-190e41b15a5f",
   "metadata": {},
   "source": [
    "#### Insights from the Graph"
   ]
  },
  {
   "cell_type": "markdown",
   "id": "d3b18b77-1a80-401a-9141-a60870e67bd1",
   "metadata": {},
   "source": [
    "##### Unemployment Trend Over Time \n",
    "Observation:\n",
    "The unemployment rate fluctuates over time, showing both peaks and declines.\n",
    "A significant spike is seen around mid-2020, due to the impact of COVID-19 lockdown.\n",
    "\n",
    "- Economic crises (e.g., pandemics, recessions) directly impact unemployment.\n",
    "Government interventions (job programs) help stabilize the job market over time.\n"
   ]
  },
  {
   "cell_type": "markdown",
   "id": "f090ff2f-5f47-4a0c-8fff-63eab0106879",
   "metadata": {},
   "source": [
    "#### Regional Unemployment Rate Distribution"
   ]
  },
  {
   "cell_type": "code",
   "execution_count": 296,
   "id": "4a45fa91-6e3b-40bd-81de-fb50fef0041f",
   "metadata": {},
   "outputs": [
    {
     "data": {
      "image/png": "[encoded data removed]",
      "text/plain": [
       "<Figure size 1400x700 with 1 Axes>"
      ]
     },
     "metadata": {},
     "output_type": "display_data"
    }
   ],
   "source": [
    "plt.figure(figsize=(14, 7))\n",
    "sns.barplot(x='Region', y='Estimated Unemployment Rate (%)', data=df_merged, errorbar=None, palette='viridis', hue='Region', legend=False)\n",
    "plt.xticks(rotation=90)\n",
    "plt.title('Regional Unemployment Rate Distribution')\n",
    "plt.show()"
   ]
  },
  {
   "cell_type": "markdown",
   "id": "798a8b5b-333b-4657-8377-5781d01a87ea",
   "metadata": {},
   "source": [
    "##### Regional Unemployment Rate Distribution"
   ]
  },
  {
   "cell_type": "markdown",
   "id": "8ad51a1d-b83a-4a4e-84a5-6559769abcd7",
   "metadata": {},
   "source": [
    "- Tripura & Haryana have the highest unemployment rates due to limited industrial growth, skill gaps, and rural dependency on agriculture.\n",
    "- Meghalaya, with the lowest unemployment rate, benefits from self-employment, sustainable tourism, and government-backed rural job schemes.\n",
    "- Encouraging skill development, industrial investment, and small business growth can help high-unemployment states improve job opportunities. "
   ]
  },
  {
   "cell_type": "markdown",
   "id": "0bf2288b-cae0-42a5-8924-a87c4cabb8b1",
   "metadata": {},
   "source": [
    "#### Conclusion\n",
    "\n",
    "This analysis provides valuable insights into unemployment trends in India. By leveraging Python and visualization techniques, we can better understand employment patterns and make data-driven decisions. "
   ]
  },
  {
   "cell_type": "code",
   "execution_count": null,
   "id": "edbad69a-f37a-49a3-8f0d-a305c455f8fa",
   "metadata": {},
   "outputs": [],
   "source": []
  }
 ],
 "metadata": {
  "kernelspec": {
   "display_name": "Python 3 (ipykernel)",
   "language": "python",
   "name": "python3"
  },
  "language_info": {
   "codemirror_mode": {
    "name": "ipython",
    "version": 3
   },
   "file_extension": ".py",
   "mimetype": "text/x-python",
   "name": "python",
   "nbconvert_exporter": "python",
   "pygments_lexer": "ipython3",
   "version": "3.12.4"
  }
 },
 "nbformat": 4,
 "nbformat_minor": 5
}
